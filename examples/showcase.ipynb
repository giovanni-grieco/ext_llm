{
 "cells": [
  {
   "cell_type": "code",
   "id": "initial_id",
   "metadata": {
    "collapsed": true
   },
   "source": [
    "import ext_llm as xllm\n",
    "#read config yaml file\n",
    "config : str = open(\"ext_llm_config.yaml\").read()\n",
    "#initialize extllm library\n",
    "extllm = xllm.init(config)"
   ],
   "outputs": [],
   "execution_count": null
  },
  {
   "metadata": {},
   "cell_type": "code",
   "source": "extllm.list_available_models()",
   "id": "2ff826834403cdc9",
   "outputs": [],
   "execution_count": null
  },
  {
   "metadata": {},
   "cell_type": "code",
   "source": [
    "llm_client = extllm.get_model(\"aws\")\n",
    "llm_client1 = extllm.get_model(\"groq\")\n",
    "future1 = llm_client.generate_text(\"You're an helpful assistant\", \"Say hello world\", 10, 0.5)\n",
    "future2 = llm_client1.generate_text(\"You're an helpful assistant\", \"Say hello world\", 10, 0.5)\n",
    "# non blocking calls\n",
    "print(future2.result())\n",
    "print(future1.result())"
   ],
   "id": "2e800039dc002cba",
   "outputs": [],
   "execution_count": null
  }
 ],
 "metadata": {
  "kernelspec": {
   "display_name": "Python 3",
   "language": "python",
   "name": "python3"
  },
  "language_info": {
   "codemirror_mode": {
    "name": "ipython",
    "version": 2
   },
   "file_extension": ".py",
   "mimetype": "text/x-python",
   "name": "python",
   "nbconvert_exporter": "python",
   "pygments_lexer": "ipython2",
   "version": "2.7.6"
  }
 },
 "nbformat": 4,
 "nbformat_minor": 5
}
