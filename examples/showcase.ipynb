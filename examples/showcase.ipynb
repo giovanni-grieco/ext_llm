{
 "cells": [
  {
   "cell_type": "code",
   "id": "initial_id",
   "metadata": {
    "collapsed": true,
    "ExecuteTime": {
     "end_time": "2025-02-28T18:52:23.073127Z",
     "start_time": "2025-02-28T18:52:23.000065Z"
    }
   },
   "source": [
    "import ext_llm as xllm\n",
    "#read config yaml file\n",
    "config : str = open(\"ext_llm_config.yaml\").read()\n",
    "#initialize extllm library\n",
    "extllm = xllm.init(config)"
   ],
   "outputs": [],
   "execution_count": 1
  },
  {
   "metadata": {
    "ExecuteTime": {
     "end_time": "2025-02-28T18:52:23.097557Z",
     "start_time": "2025-02-28T18:52:23.085105Z"
    }
   },
   "cell_type": "code",
   "source": "extllm.list_available_models()",
   "id": "2ff826834403cdc9",
   "outputs": [
    {
     "data": {
      "text/plain": [
       "{'aws': {'module_name': 'ext_llm.aws_llm',\n",
       "  'class_name': 'AwsLlm',\n",
       "  'param1': 'qwerty',\n",
       "  'param2': '44'},\n",
       " 'groq': {'module_name': 'ext_llm.groq_llm',\n",
       "  'class_name': 'GroqLlm',\n",
       "  'param1': '13',\n",
       "  'param2': 'http://example.com'}}"
      ]
     },
     "execution_count": 2,
     "metadata": {},
     "output_type": "execute_result"
    }
   ],
   "execution_count": 2
  },
  {
   "metadata": {
    "ExecuteTime": {
     "end_time": "2025-02-28T18:52:33.510512Z",
     "start_time": "2025-02-28T18:52:23.493512Z"
    }
   },
   "cell_type": "code",
   "source": [
    "llm_client = extllm.get_model(\"aws\")\n",
    "llm_client1 = extllm.get_model(\"groq\")\n",
    "future1 = llm_client.generate_text(\"You're an helpful assistant\", \"Say hello world\", 10, 0.5)\n",
    "future2 = llm_client1.generate_text(\"You're an helpful assistant\", \"Say hello world\", 10, 0.5)\n",
    "# non blocking calls\n",
    "print(future2.result())\n",
    "print(future1.result())"
   ],
   "id": "2e800039dc002cba",
   "outputs": [
    {
     "name": "stdout",
     "output_type": "stream",
     "text": [
      "generate_text called with system_prompt: You're an helpful assistant, prompt: Say hello world, max_tokens: 10, temperature: 0.5\n",
      "generate_text called with system_prompt: You're an helpful assistant, prompt: Say hello world, max_tokens: 0, temperature: 0.5\n",
      "generate_text returned: Hello GroqLlm\n",
      "Hello GroqLlm\n",
      "generate_text returned: Hello AwsLlm\n",
      "Hello AwsLlm\n"
     ]
    }
   ],
   "execution_count": 3
  }
 ],
 "metadata": {
  "kernelspec": {
   "display_name": "Python 3",
   "language": "python",
   "name": "python3"
  },
  "language_info": {
   "codemirror_mode": {
    "name": "ipython",
    "version": 2
   },
   "file_extension": ".py",
   "mimetype": "text/x-python",
   "name": "python",
   "nbconvert_exporter": "python",
   "pygments_lexer": "ipython2",
   "version": "2.7.6"
  }
 },
 "nbformat": 4,
 "nbformat_minor": 5
}
