{
 "cells": [
  {
   "cell_type": "code",
   "id": "initial_id",
   "metadata": {
    "collapsed": true,
    "ExecuteTime": {
     "end_time": "2025-02-26T08:56:23.588984Z",
     "start_time": "2025-02-26T08:56:23.585297Z"
    }
   },
   "source": [
    "import ext_llm as xllm\n",
    "#read config yaml file\n",
    "config : str = open(\"ext_llm_config.yaml\").read()\n",
    "#initialize extllm library\n",
    "extllm = xllm.init(config)"
   ],
   "outputs": [],
   "execution_count": 4
  },
  {
   "metadata": {
    "ExecuteTime": {
     "end_time": "2025-02-26T08:56:23.604453Z",
     "start_time": "2025-02-26T08:56:23.600355Z"
    }
   },
   "cell_type": "code",
   "source": "extllm.list_available_models()",
   "id": "2ff826834403cdc9",
   "outputs": [
    {
     "data": {
      "text/plain": [
       "{'aws': {'class_name': 'AwsLlm', 'param1': 'qwerty', 'param2': '44'},\n",
       " 'groq': {'class_name': 'GroqLlm',\n",
       "  'param1': '13',\n",
       "  'param2': 'http://example.com'}}"
      ]
     },
     "execution_count": 5,
     "metadata": {},
     "output_type": "execute_result"
    }
   ],
   "execution_count": 5
  },
  {
   "metadata": {
    "ExecuteTime": {
     "end_time": "2025-02-26T08:56:23.713124Z",
     "start_time": "2025-02-26T08:56:23.709161Z"
    }
   },
   "cell_type": "code",
   "source": [
    "llm_client = extllm.get_model(\"aws\")\n",
    "llm_client.generate_text(\"You're an helpful assistant\", \"Say hello world\", 10, 0.5)"
   ],
   "id": "2e800039dc002cba",
   "outputs": [
    {
     "data": {
      "text/plain": [
       "'Hello AwsLlm'"
      ]
     },
     "execution_count": 6,
     "metadata": {},
     "output_type": "execute_result"
    }
   ],
   "execution_count": 6
  }
 ],
 "metadata": {
  "kernelspec": {
   "display_name": "Python 3",
   "language": "python",
   "name": "python3"
  },
  "language_info": {
   "codemirror_mode": {
    "name": "ipython",
    "version": 2
   },
   "file_extension": ".py",
   "mimetype": "text/x-python",
   "name": "python",
   "nbconvert_exporter": "python",
   "pygments_lexer": "ipython2",
   "version": "2.7.6"
  }
 },
 "nbformat": 4,
 "nbformat_minor": 5
}
