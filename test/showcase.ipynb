{
 "cells": [
  {
   "cell_type": "code",
   "id": "initial_id",
   "metadata": {
    "collapsed": true,
    "ExecuteTime": {
     "end_time": "2025-02-26T08:08:41.246940Z",
     "start_time": "2025-02-26T08:08:41.242757Z"
    }
   },
   "source": [
    "import ext_llm as xllm\n",
    "#read config yaml file\n",
    "config : str = open(\"ext_llm_config.yaml\").read()\n",
    "#initialize extllm library\n",
    "extllm = xllm.init(config)"
   ],
   "outputs": [],
   "execution_count": 6
  },
  {
   "metadata": {
    "ExecuteTime": {
     "end_time": "2025-02-26T08:08:41.293615Z",
     "start_time": "2025-02-26T08:08:41.289638Z"
    }
   },
   "cell_type": "code",
   "source": "extllm.list_available_models()",
   "id": "2ff826834403cdc9",
   "outputs": [
    {
     "data": {
      "text/plain": [
       "{'aws': {'param1': 'qwerty', 'param2': '44'},\n",
       " 'groq': {'param1': '13', 'param2': 'http://example.com'}}"
      ]
     },
     "execution_count": 7,
     "metadata": {},
     "output_type": "execute_result"
    }
   ],
   "execution_count": 7
  },
  {
   "metadata": {
    "ExecuteTime": {
     "end_time": "2025-02-26T08:08:41.404670Z",
     "start_time": "2025-02-26T08:08:41.400740Z"
    }
   },
   "cell_type": "code",
   "source": "extllm.get_model(\"aws\")",
   "id": "2e800039dc002cba",
   "outputs": [
    {
     "data": {
      "text/plain": [
       "{'param1': 'qwerty', 'param2': '44'}"
      ]
     },
     "execution_count": 8,
     "metadata": {},
     "output_type": "execute_result"
    }
   ],
   "execution_count": 8
  }
 ],
 "metadata": {
  "kernelspec": {
   "display_name": "Python 3",
   "language": "python",
   "name": "python3"
  },
  "language_info": {
   "codemirror_mode": {
    "name": "ipython",
    "version": 2
   },
   "file_extension": ".py",
   "mimetype": "text/x-python",
   "name": "python",
   "nbconvert_exporter": "python",
   "pygments_lexer": "ipython2",
   "version": "2.7.6"
  }
 },
 "nbformat": 4,
 "nbformat_minor": 5
}
